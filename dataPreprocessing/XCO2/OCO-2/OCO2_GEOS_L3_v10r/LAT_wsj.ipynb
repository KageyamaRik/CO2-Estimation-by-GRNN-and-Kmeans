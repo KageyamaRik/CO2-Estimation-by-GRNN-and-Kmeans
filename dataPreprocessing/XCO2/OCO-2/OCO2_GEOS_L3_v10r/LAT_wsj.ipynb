{
 "cells": [
  {
   "cell_type": "code",
   "id": "initial_id",
   "metadata": {
    "collapsed": true,
    "ExecuteTime": {
     "end_time": "2024-05-11T00:49:14.882761Z",
     "start_time": "2024-05-11T00:49:14.436596Z"
    }
   },
   "source": [
    "import numpy as np\n",
    "\n",
    "data = []\n",
    "\n",
    "for year in range(2015, 2022):\n",
    "    d = np.flip(np.load(f\"H:\\\\XCO2\\\\OCO2_GEOS_L3_v10r\\\\LAT_year_wsj\\\\MappingXCO2_{year}.npy\"), axis=0)\n",
    "    data.append(d)\n",
    "    \n",
    "for i in range(0, 7):\n",
    "    np.save(f\"H:\\\\XCO2\\\\OCO2_GEOS_L3_v10r\\\\LAT_year_wsj\\\\MappingXCO2_{i+2015}.npy\", data[i])"
   ],
   "outputs": [],
   "execution_count": 1
  },
  {
   "metadata": {},
   "cell_type": "code",
   "outputs": [],
   "execution_count": null,
   "source": "",
   "id": "42f4ce9110674378"
  }
 ],
 "metadata": {
  "kernelspec": {
   "display_name": "Python 3",
   "language": "python",
   "name": "python3"
  },
  "language_info": {
   "codemirror_mode": {
    "name": "ipython",
    "version": 2
   },
   "file_extension": ".py",
   "mimetype": "text/x-python",
   "name": "python",
   "nbconvert_exporter": "python",
   "pygments_lexer": "ipython2",
   "version": "2.7.6"
  }
 },
 "nbformat": 4,
 "nbformat_minor": 5
}
