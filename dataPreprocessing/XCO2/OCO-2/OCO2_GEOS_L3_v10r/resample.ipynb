{
 "cells": [
  {
   "metadata": {},
   "cell_type": "markdown",
   "source": [
    "# OCO2_GEOS_L3_v10r 数据集重采样任务\n",
    "* 需要重采样到1°栅格\n",
    "* 首先测试查看现在数据的形式"
   ],
   "id": "93d387cfa3933a22"
  },
  {
   "metadata": {
    "ExecuteTime": {
     "end_time": "2024-05-01T14:52:42.661224Z",
     "start_time": "2024-05-01T14:52:42.446376Z"
    }
   },
   "cell_type": "code",
   "source": [
    "import netCDF4 as nc\n",
    "import numpy as np\n",
    "import xarray as xr\n",
    "import os\n",
    "\n",
    "dayPath = \"H:\\\\XCO2\\\\OCO2_GEOS_L3_v10r\\\\src_daily\\\\\"\n",
    "monPath = \"H:\\\\XCO2\\\\OCO2_GEOS_L3_v10r\\\\src_monthly\\\\\"\n",
    "\n",
    "dayOutPath = \"H:\\\\XCO2\\\\OCO2_GEOS_L3_v10r\\\\src_daily_resample\\\\\"\n",
    "monOutPath = \"H:\\\\XCO2\\\\OCO2_GEOS_L3_v10r\\\\src_monthly_resample\\\\\"\n",
    "\n",
    "day_fmt = \"oco2_GEOS_L3CO2_day_{}_B10206Ar.nc4\"\n",
    "mon_fmt = \"oco2_GEOS_L3CO2_month_{}_B10206Ar.nc4\"\n",
    "\n",
    "sample = xr.open_dataset(\"H:\\\\CO2\\\\ODIAC\\\\2022\\\\1deg_ncdf\\\\odiac2022_1x1d_2000.nc\")"
   ],
   "id": "40a77ced61433125",
   "outputs": [],
   "execution_count": 3
  },
  {
   "metadata": {
    "ExecuteTime": {
     "end_time": "2024-05-01T15:00:34.012895Z",
     "start_time": "2024-05-01T14:54:57.159762Z"
    }
   },
   "cell_type": "code",
   "source": [
    "# 处理日尺度\n",
    "for filename in os.listdir(dayPath):\n",
    "    file = xr.open_dataset(dayPath + filename)\n",
    "    resampled = file.interp_like(sample, method=\"linear\")\n",
    "    resampled.to_netcdf(dayOutPath + filename)"
   ],
   "id": "17c292f9a4e8089f",
   "outputs": [],
   "execution_count": 4
  },
  {
   "metadata": {
    "ExecuteTime": {
     "end_time": "2024-05-01T15:01:55.339838Z",
     "start_time": "2024-05-01T15:01:44.046403Z"
    }
   },
   "cell_type": "code",
   "source": [
    "# 处理月尺度\n",
    "for filename in os.listdir(monPath):\n",
    "    file = xr.open_dataset(monPath + filename)\n",
    "    resampled = file.interp_like(sample, method=\"linear\")\n",
    "    resampled.to_netcdf(monOutPath + filename)"
   ],
   "id": "11bcfc5c87e92a46",
   "outputs": [],
   "execution_count": 5
  },
  {
   "metadata": {},
   "cell_type": "code",
   "outputs": [],
   "execution_count": null,
   "source": "",
   "id": "885885c2c518f7bc"
  }
 ],
 "metadata": {
  "kernelspec": {
   "display_name": "Python 3",
   "language": "python",
   "name": "python3"
  },
  "language_info": {
   "codemirror_mode": {
    "name": "ipython",
    "version": 2
   },
   "file_extension": ".py",
   "mimetype": "text/x-python",
   "name": "python",
   "nbconvert_exporter": "python",
   "pygments_lexer": "ipython2",
   "version": "2.7.6"
  }
 },
 "nbformat": 4,
 "nbformat_minor": 5
}
